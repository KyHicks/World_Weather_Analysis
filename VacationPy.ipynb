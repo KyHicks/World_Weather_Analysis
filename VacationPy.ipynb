{
 "cells": [
  {
   "cell_type": "code",
   "execution_count": 1,
   "id": "6475da31",
   "metadata": {},
   "outputs": [
    {
     "name": "stderr",
     "output_type": "stream",
     "text": [
      "Enabling notebook extension jupyter-js-widgets/extension...\n",
      "      - Validating: ok\n",
      "Enabling notebook extension jupyter-gmaps/extension...\n",
      "      - Validating: ok\n"
     ]
    }
   ],
   "source": [
    "# Import the dependencies.\n",
    "import pandas as pd\n",
    "import gmaps\n",
    "import requests\n",
    "# Import the API key.\n",
    "from config import g_key\n",
    "!jupyter nbextension enable --py --sys-prefix widgetsnbextension\n",
    "!jupyter nbextension enable --py --sys-prefix gmaps"
   ]
  },
  {
   "cell_type": "code",
   "execution_count": 2,
   "id": "e6cf29ab",
   "metadata": {},
   "outputs": [
    {
     "data": {
      "text/html": [
       "<div>\n",
       "<style scoped>\n",
       "    .dataframe tbody tr th:only-of-type {\n",
       "        vertical-align: middle;\n",
       "    }\n",
       "\n",
       "    .dataframe tbody tr th {\n",
       "        vertical-align: top;\n",
       "    }\n",
       "\n",
       "    .dataframe thead th {\n",
       "        text-align: right;\n",
       "    }\n",
       "</style>\n",
       "<table border=\"1\" class=\"dataframe\">\n",
       "  <thead>\n",
       "    <tr style=\"text-align: right;\">\n",
       "      <th></th>\n",
       "      <th>City_ID</th>\n",
       "      <th>City</th>\n",
       "      <th>Country</th>\n",
       "      <th>Date</th>\n",
       "      <th>Lat</th>\n",
       "      <th>Lng</th>\n",
       "      <th>Max Temp</th>\n",
       "      <th>Humidity</th>\n",
       "      <th>Cloudiness</th>\n",
       "      <th>Wind Speed</th>\n",
       "    </tr>\n",
       "  </thead>\n",
       "  <tbody>\n",
       "    <tr>\n",
       "      <th>0</th>\n",
       "      <td>0</td>\n",
       "      <td>Maumere</td>\n",
       "      <td>ID</td>\n",
       "      <td>2022-01-30 04:08:43</td>\n",
       "      <td>-8.6199</td>\n",
       "      <td>122.2111</td>\n",
       "      <td>82.98</td>\n",
       "      <td>78</td>\n",
       "      <td>100</td>\n",
       "      <td>8.03</td>\n",
       "    </tr>\n",
       "    <tr>\n",
       "      <th>1</th>\n",
       "      <td>1</td>\n",
       "      <td>San Patricio</td>\n",
       "      <td>US</td>\n",
       "      <td>2022-01-30 04:08:43</td>\n",
       "      <td>28.0170</td>\n",
       "      <td>-97.5169</td>\n",
       "      <td>57.04</td>\n",
       "      <td>55</td>\n",
       "      <td>9</td>\n",
       "      <td>8.39</td>\n",
       "    </tr>\n",
       "    <tr>\n",
       "      <th>2</th>\n",
       "      <td>2</td>\n",
       "      <td>Atuona</td>\n",
       "      <td>PF</td>\n",
       "      <td>2022-01-30 04:08:44</td>\n",
       "      <td>-9.8000</td>\n",
       "      <td>-139.0333</td>\n",
       "      <td>78.08</td>\n",
       "      <td>76</td>\n",
       "      <td>23</td>\n",
       "      <td>14.14</td>\n",
       "    </tr>\n",
       "    <tr>\n",
       "      <th>3</th>\n",
       "      <td>3</td>\n",
       "      <td>Albany</td>\n",
       "      <td>US</td>\n",
       "      <td>2022-01-30 04:05:24</td>\n",
       "      <td>42.6001</td>\n",
       "      <td>-73.9662</td>\n",
       "      <td>6.75</td>\n",
       "      <td>55</td>\n",
       "      <td>100</td>\n",
       "      <td>8.99</td>\n",
       "    </tr>\n",
       "    <tr>\n",
       "      <th>4</th>\n",
       "      <td>4</td>\n",
       "      <td>Yellowknife</td>\n",
       "      <td>CA</td>\n",
       "      <td>2022-01-30 04:08:44</td>\n",
       "      <td>62.4560</td>\n",
       "      <td>-114.3525</td>\n",
       "      <td>-14.58</td>\n",
       "      <td>82</td>\n",
       "      <td>86</td>\n",
       "      <td>5.01</td>\n",
       "    </tr>\n",
       "  </tbody>\n",
       "</table>\n",
       "</div>"
      ],
      "text/plain": [
       "   City_ID          City Country                 Date      Lat       Lng  \\\n",
       "0        0       Maumere      ID  2022-01-30 04:08:43  -8.6199  122.2111   \n",
       "1        1  San Patricio      US  2022-01-30 04:08:43  28.0170  -97.5169   \n",
       "2        2        Atuona      PF  2022-01-30 04:08:44  -9.8000 -139.0333   \n",
       "3        3        Albany      US  2022-01-30 04:05:24  42.6001  -73.9662   \n",
       "4        4   Yellowknife      CA  2022-01-30 04:08:44  62.4560 -114.3525   \n",
       "\n",
       "   Max Temp  Humidity  Cloudiness  Wind Speed  \n",
       "0     82.98        78         100        8.03  \n",
       "1     57.04        55           9        8.39  \n",
       "2     78.08        76          23       14.14  \n",
       "3      6.75        55         100        8.99  \n",
       "4    -14.58        82          86        5.01  "
      ]
     },
     "execution_count": 2,
     "metadata": {},
     "output_type": "execute_result"
    }
   ],
   "source": [
    "# Store the CSV you saved created in part one into a DataFrame.\n",
    "city_data_df = pd.read_csv(\"weather_data/cities.csv\")\n",
    "city_data_df.head()"
   ]
  },
  {
   "cell_type": "code",
   "execution_count": 3,
   "id": "e4ece3dd",
   "metadata": {},
   "outputs": [
    {
     "data": {
      "text/plain": [
       "City_ID         int64\n",
       "City           object\n",
       "Country        object\n",
       "Date           object\n",
       "Lat           float64\n",
       "Lng           float64\n",
       "Max Temp      float64\n",
       "Humidity        int64\n",
       "Cloudiness      int64\n",
       "Wind Speed    float64\n",
       "dtype: object"
      ]
     },
     "execution_count": 3,
     "metadata": {},
     "output_type": "execute_result"
    }
   ],
   "source": [
    "# Get the data types.\n",
    "city_data_df.dtypes"
   ]
  },
  {
   "cell_type": "code",
   "execution_count": 4,
   "id": "8bf39864",
   "metadata": {},
   "outputs": [],
   "source": [
    "# Configure gmaps to use your Google API key\n",
    "gmaps.configure(api_key=g_key)"
   ]
  },
  {
   "cell_type": "code",
   "execution_count": 5,
   "id": "d679591a",
   "metadata": {},
   "outputs": [],
   "source": [
    "# Get the maximu temperature.\n",
    "max_temp = city_data_df[\"Max Temp\"]\n",
    "temps = []\n",
    "for temp in max_temp:\n",
    "    temps.append(max(temp,0))"
   ]
  },
  {
   "cell_type": "code",
   "execution_count": 9,
   "id": "2bd1ea15",
   "metadata": {},
   "outputs": [
    {
     "data": {
      "application/vnd.jupyter.widget-view+json": {
       "model_id": "a4f3cad484c64c2dbb0b7b5ff8ea6931",
       "version_major": 2,
       "version_minor": 0
      },
      "text/plain": [
       "Figure(layout=FigureLayout(height='420px'))"
      ]
     },
     "metadata": {},
     "output_type": "display_data"
    }
   ],
   "source": [
    "# Heatmap of temperature\n",
    "# Get the latitude and longitude.\n",
    "locations = city_data_df[[\"Lat\", \"Lng\"]]\n",
    "# Get the maximum temperature.\n",
    "max_temp = city_data_df[\"Max Temp\"]\n",
    "# Assign the figure variable.\n",
    "fig = gmaps.figure(center=(30.0, 31.0), zoom_level=1.5)\n",
    "# Assign the heatmap variable.\n",
    "heat_layer = gmaps.heatmap_layer(locations, weights=[max(temp, 0) for temp in max_temp], dissipating=False, max_intensity=300, point_radius=4)\n",
    "# Add the heatmap layer.\n",
    "fig.add_layer(heat_layer)\n",
    "# Call the figure to plot the data.\n",
    "fig"
   ]
  },
  {
   "cell_type": "code",
   "execution_count": 13,
   "id": "b3c3f859",
   "metadata": {},
   "outputs": [
    {
     "data": {
      "application/vnd.jupyter.widget-view+json": {
       "model_id": "358d0c1af13a4226bc5e51642678f03f",
       "version_major": 2,
       "version_minor": 0
      },
      "text/plain": [
       "Figure(layout=FigureLayout(height='420px'))"
      ]
     },
     "metadata": {},
     "output_type": "display_data"
    }
   ],
   "source": [
    "# Heatmap of percent humidity.\n",
    "locations = city_data_df[[\"Lat\", \"Lng\"]]\n",
    "humidity = city_data_df[\"Humidity\"]\n",
    "fig = gmaps.figure(center=(30.0, 31.0), zoom_level=1.5)\n",
    "heat_layer = gmaps.heatmap_layer(locations, weights=humidity, dissipating=False, max_intensity=300, point_radius=4)\n",
    "\n",
    "fig.add_layer(heat_layer)\n",
    "# Call the figure to plot the data.\n",
    "fig\n"
   ]
  },
  {
   "cell_type": "code",
   "execution_count": 14,
   "id": "79dca827",
   "metadata": {},
   "outputs": [
    {
     "data": {
      "application/vnd.jupyter.widget-view+json": {
       "model_id": "b8620a20b57a4f3a99768b3a420c21b9",
       "version_major": 2,
       "version_minor": 0
      },
      "text/plain": [
       "Figure(layout=FigureLayout(height='420px'))"
      ]
     },
     "metadata": {},
     "output_type": "display_data"
    }
   ],
   "source": [
    "# Heatmap of percent cloudiness.\n",
    "locations = city_data_df[[\"Lat\", \"Lng\"]]\n",
    "clouds = city_data_df[\"Cloudiness\"]\n",
    "fig = gmaps.figure(center=(30.0, 31.0), zoom_level=1.5)\n",
    "heat_layer = gmaps.heatmap_layer(locations, weights=clouds, dissipating=False, max_intensity=300, point_radius=4)\n",
    "\n",
    "fig.add_layer(heat_layer)\n",
    "# Call the figure to plot the data.\n",
    "fig\n"
   ]
  },
  {
   "cell_type": "code",
   "execution_count": 15,
   "id": "cd32ad81",
   "metadata": {},
   "outputs": [
    {
     "data": {
      "application/vnd.jupyter.widget-view+json": {
       "model_id": "ab01fbec6dbe4e16b7de1c4aabc93452",
       "version_major": 2,
       "version_minor": 0
      },
      "text/plain": [
       "Figure(layout=FigureLayout(height='420px'))"
      ]
     },
     "metadata": {},
     "output_type": "display_data"
    }
   ],
   "source": [
    "# Heatmap of percent wind speed.\n",
    "locations = city_data_df[[\"Lat\", \"Lng\"]]\n",
    "wind = city_data_df[\"Wind Speed\"]\n",
    "fig = gmaps.figure(center=(30.0, 31.0), zoom_level=1.5)\n",
    "heat_layer = gmaps.heatmap_layer(locations, weights=wind, dissipating=False, max_intensity=300, point_radius=4)\n",
    "\n",
    "fig.add_layer(heat_layer)\n",
    "# Call the figure to plot the data.\n",
    "fig"
   ]
  },
  {
   "cell_type": "code",
   "execution_count": 16,
   "id": "4cc59fad",
   "metadata": {},
   "outputs": [
    {
     "name": "stdout",
     "output_type": "stream",
     "text": [
      "What is the minimum temperature you would like for your trip? 75\n",
      "What is the maximum temperature you would like for your trip? 90\n"
     ]
    }
   ],
   "source": [
    "# Ask the customer to add a minimum and maximum temperature value.\n",
    "min_temp = float(input(\"What is the minimum temperature you would like for your trip? \"))\n",
    "max_temp = float(input(\"What is the maximum temperature you would like for your trip? \"))\n"
   ]
  },
  {
   "cell_type": "code",
   "execution_count": 17,
   "id": "66b35346",
   "metadata": {},
   "outputs": [
    {
     "data": {
      "text/html": [
       "<div>\n",
       "<style scoped>\n",
       "    .dataframe tbody tr th:only-of-type {\n",
       "        vertical-align: middle;\n",
       "    }\n",
       "\n",
       "    .dataframe tbody tr th {\n",
       "        vertical-align: top;\n",
       "    }\n",
       "\n",
       "    .dataframe thead th {\n",
       "        text-align: right;\n",
       "    }\n",
       "</style>\n",
       "<table border=\"1\" class=\"dataframe\">\n",
       "  <thead>\n",
       "    <tr style=\"text-align: right;\">\n",
       "      <th></th>\n",
       "      <th>City_ID</th>\n",
       "      <th>City</th>\n",
       "      <th>Country</th>\n",
       "      <th>Date</th>\n",
       "      <th>Lat</th>\n",
       "      <th>Lng</th>\n",
       "      <th>Max Temp</th>\n",
       "      <th>Humidity</th>\n",
       "      <th>Cloudiness</th>\n",
       "      <th>Wind Speed</th>\n",
       "    </tr>\n",
       "  </thead>\n",
       "  <tbody>\n",
       "    <tr>\n",
       "      <th>0</th>\n",
       "      <td>0</td>\n",
       "      <td>Maumere</td>\n",
       "      <td>ID</td>\n",
       "      <td>2022-01-30 04:08:43</td>\n",
       "      <td>-8.6199</td>\n",
       "      <td>122.2111</td>\n",
       "      <td>82.98</td>\n",
       "      <td>78</td>\n",
       "      <td>100</td>\n",
       "      <td>8.03</td>\n",
       "    </tr>\n",
       "    <tr>\n",
       "      <th>2</th>\n",
       "      <td>2</td>\n",
       "      <td>Atuona</td>\n",
       "      <td>PF</td>\n",
       "      <td>2022-01-30 04:08:44</td>\n",
       "      <td>-9.8000</td>\n",
       "      <td>-139.0333</td>\n",
       "      <td>78.08</td>\n",
       "      <td>76</td>\n",
       "      <td>23</td>\n",
       "      <td>14.14</td>\n",
       "    </tr>\n",
       "    <tr>\n",
       "      <th>9</th>\n",
       "      <td>9</td>\n",
       "      <td>Boyolangu</td>\n",
       "      <td>ID</td>\n",
       "      <td>2022-01-30 04:08:46</td>\n",
       "      <td>-8.1181</td>\n",
       "      <td>111.8935</td>\n",
       "      <td>84.79</td>\n",
       "      <td>70</td>\n",
       "      <td>89</td>\n",
       "      <td>6.08</td>\n",
       "    </tr>\n",
       "    <tr>\n",
       "      <th>13</th>\n",
       "      <td>13</td>\n",
       "      <td>Hobart</td>\n",
       "      <td>AU</td>\n",
       "      <td>2022-01-30 04:08:47</td>\n",
       "      <td>-42.8794</td>\n",
       "      <td>147.3294</td>\n",
       "      <td>83.01</td>\n",
       "      <td>52</td>\n",
       "      <td>0</td>\n",
       "      <td>1.01</td>\n",
       "    </tr>\n",
       "    <tr>\n",
       "      <th>15</th>\n",
       "      <td>15</td>\n",
       "      <td>Carnarvon</td>\n",
       "      <td>AU</td>\n",
       "      <td>2022-01-30 04:08:48</td>\n",
       "      <td>-24.8667</td>\n",
       "      <td>113.6333</td>\n",
       "      <td>84.27</td>\n",
       "      <td>70</td>\n",
       "      <td>61</td>\n",
       "      <td>17.27</td>\n",
       "    </tr>\n",
       "    <tr>\n",
       "      <th>18</th>\n",
       "      <td>18</td>\n",
       "      <td>Flinders</td>\n",
       "      <td>AU</td>\n",
       "      <td>2022-01-30 04:08:49</td>\n",
       "      <td>-34.5833</td>\n",
       "      <td>150.8552</td>\n",
       "      <td>84.20</td>\n",
       "      <td>74</td>\n",
       "      <td>98</td>\n",
       "      <td>7.78</td>\n",
       "    </tr>\n",
       "    <tr>\n",
       "      <th>19</th>\n",
       "      <td>19</td>\n",
       "      <td>Jeremie</td>\n",
       "      <td>HT</td>\n",
       "      <td>2022-01-30 04:08:49</td>\n",
       "      <td>18.6500</td>\n",
       "      <td>-74.1167</td>\n",
       "      <td>75.69</td>\n",
       "      <td>79</td>\n",
       "      <td>7</td>\n",
       "      <td>4.68</td>\n",
       "    </tr>\n",
       "    <tr>\n",
       "      <th>21</th>\n",
       "      <td>21</td>\n",
       "      <td>Atambua</td>\n",
       "      <td>ID</td>\n",
       "      <td>2022-01-30 04:08:50</td>\n",
       "      <td>-9.1061</td>\n",
       "      <td>124.8925</td>\n",
       "      <td>76.53</td>\n",
       "      <td>86</td>\n",
       "      <td>100</td>\n",
       "      <td>5.57</td>\n",
       "    </tr>\n",
       "    <tr>\n",
       "      <th>24</th>\n",
       "      <td>24</td>\n",
       "      <td>Busselton</td>\n",
       "      <td>AU</td>\n",
       "      <td>2022-01-30 04:08:51</td>\n",
       "      <td>-33.6500</td>\n",
       "      <td>115.3333</td>\n",
       "      <td>83.05</td>\n",
       "      <td>45</td>\n",
       "      <td>4</td>\n",
       "      <td>12.55</td>\n",
       "    </tr>\n",
       "    <tr>\n",
       "      <th>40</th>\n",
       "      <td>40</td>\n",
       "      <td>Kavaratti</td>\n",
       "      <td>IN</td>\n",
       "      <td>2022-01-30 04:04:35</td>\n",
       "      <td>10.5669</td>\n",
       "      <td>72.6420</td>\n",
       "      <td>81.37</td>\n",
       "      <td>69</td>\n",
       "      <td>90</td>\n",
       "      <td>9.15</td>\n",
       "    </tr>\n",
       "  </tbody>\n",
       "</table>\n",
       "</div>"
      ],
      "text/plain": [
       "    City_ID       City Country                 Date      Lat       Lng  \\\n",
       "0         0    Maumere      ID  2022-01-30 04:08:43  -8.6199  122.2111   \n",
       "2         2     Atuona      PF  2022-01-30 04:08:44  -9.8000 -139.0333   \n",
       "9         9  Boyolangu      ID  2022-01-30 04:08:46  -8.1181  111.8935   \n",
       "13       13     Hobart      AU  2022-01-30 04:08:47 -42.8794  147.3294   \n",
       "15       15  Carnarvon      AU  2022-01-30 04:08:48 -24.8667  113.6333   \n",
       "18       18   Flinders      AU  2022-01-30 04:08:49 -34.5833  150.8552   \n",
       "19       19    Jeremie      HT  2022-01-30 04:08:49  18.6500  -74.1167   \n",
       "21       21    Atambua      ID  2022-01-30 04:08:50  -9.1061  124.8925   \n",
       "24       24  Busselton      AU  2022-01-30 04:08:51 -33.6500  115.3333   \n",
       "40       40  Kavaratti      IN  2022-01-30 04:04:35  10.5669   72.6420   \n",
       "\n",
       "    Max Temp  Humidity  Cloudiness  Wind Speed  \n",
       "0      82.98        78         100        8.03  \n",
       "2      78.08        76          23       14.14  \n",
       "9      84.79        70          89        6.08  \n",
       "13     83.01        52           0        1.01  \n",
       "15     84.27        70          61       17.27  \n",
       "18     84.20        74          98        7.78  \n",
       "19     75.69        79           7        4.68  \n",
       "21     76.53        86         100        5.57  \n",
       "24     83.05        45           4       12.55  \n",
       "40     81.37        69          90        9.15  "
      ]
     },
     "execution_count": 17,
     "metadata": {},
     "output_type": "execute_result"
    }
   ],
   "source": [
    "# Filter the dataset to find the cities that fit the criteria.\n",
    "preferred_cities_df = city_data_df.loc[(city_data_df[\"Max Temp\"] <= max_temp) & \\\n",
    "                                       (city_data_df[\"Max Temp\"] >= min_temp)]\n",
    "preferred_cities_df.head(10)"
   ]
  },
  {
   "cell_type": "code",
   "execution_count": 18,
   "id": "4328ac6e",
   "metadata": {},
   "outputs": [
    {
     "data": {
      "text/plain": [
       "City_ID       117\n",
       "City          117\n",
       "Country       117\n",
       "Date          117\n",
       "Lat           117\n",
       "Lng           117\n",
       "Max Temp      117\n",
       "Humidity      117\n",
       "Cloudiness    117\n",
       "Wind Speed    117\n",
       "dtype: int64"
      ]
     },
     "execution_count": 18,
     "metadata": {},
     "output_type": "execute_result"
    }
   ],
   "source": [
    "preferred_cities_df.count()"
   ]
  },
  {
   "cell_type": "code",
   "execution_count": 19,
   "id": "60f533e3",
   "metadata": {},
   "outputs": [
    {
     "data": {
      "text/html": [
       "<div>\n",
       "<style scoped>\n",
       "    .dataframe tbody tr th:only-of-type {\n",
       "        vertical-align: middle;\n",
       "    }\n",
       "\n",
       "    .dataframe tbody tr th {\n",
       "        vertical-align: top;\n",
       "    }\n",
       "\n",
       "    .dataframe thead th {\n",
       "        text-align: right;\n",
       "    }\n",
       "</style>\n",
       "<table border=\"1\" class=\"dataframe\">\n",
       "  <thead>\n",
       "    <tr style=\"text-align: right;\">\n",
       "      <th></th>\n",
       "      <th>City</th>\n",
       "      <th>Country</th>\n",
       "      <th>Max Temp</th>\n",
       "      <th>Lat</th>\n",
       "      <th>Lng</th>\n",
       "      <th>Hotel Name</th>\n",
       "    </tr>\n",
       "  </thead>\n",
       "  <tbody>\n",
       "    <tr>\n",
       "      <th>0</th>\n",
       "      <td>Maumere</td>\n",
       "      <td>ID</td>\n",
       "      <td>82.98</td>\n",
       "      <td>-8.6199</td>\n",
       "      <td>122.2111</td>\n",
       "      <td></td>\n",
       "    </tr>\n",
       "    <tr>\n",
       "      <th>2</th>\n",
       "      <td>Atuona</td>\n",
       "      <td>PF</td>\n",
       "      <td>78.08</td>\n",
       "      <td>-9.8000</td>\n",
       "      <td>-139.0333</td>\n",
       "      <td></td>\n",
       "    </tr>\n",
       "    <tr>\n",
       "      <th>9</th>\n",
       "      <td>Boyolangu</td>\n",
       "      <td>ID</td>\n",
       "      <td>84.79</td>\n",
       "      <td>-8.1181</td>\n",
       "      <td>111.8935</td>\n",
       "      <td></td>\n",
       "    </tr>\n",
       "    <tr>\n",
       "      <th>13</th>\n",
       "      <td>Hobart</td>\n",
       "      <td>AU</td>\n",
       "      <td>83.01</td>\n",
       "      <td>-42.8794</td>\n",
       "      <td>147.3294</td>\n",
       "      <td></td>\n",
       "    </tr>\n",
       "    <tr>\n",
       "      <th>15</th>\n",
       "      <td>Carnarvon</td>\n",
       "      <td>AU</td>\n",
       "      <td>84.27</td>\n",
       "      <td>-24.8667</td>\n",
       "      <td>113.6333</td>\n",
       "      <td></td>\n",
       "    </tr>\n",
       "    <tr>\n",
       "      <th>18</th>\n",
       "      <td>Flinders</td>\n",
       "      <td>AU</td>\n",
       "      <td>84.20</td>\n",
       "      <td>-34.5833</td>\n",
       "      <td>150.8552</td>\n",
       "      <td></td>\n",
       "    </tr>\n",
       "    <tr>\n",
       "      <th>19</th>\n",
       "      <td>Jeremie</td>\n",
       "      <td>HT</td>\n",
       "      <td>75.69</td>\n",
       "      <td>18.6500</td>\n",
       "      <td>-74.1167</td>\n",
       "      <td></td>\n",
       "    </tr>\n",
       "    <tr>\n",
       "      <th>21</th>\n",
       "      <td>Atambua</td>\n",
       "      <td>ID</td>\n",
       "      <td>76.53</td>\n",
       "      <td>-9.1061</td>\n",
       "      <td>124.8925</td>\n",
       "      <td></td>\n",
       "    </tr>\n",
       "    <tr>\n",
       "      <th>24</th>\n",
       "      <td>Busselton</td>\n",
       "      <td>AU</td>\n",
       "      <td>83.05</td>\n",
       "      <td>-33.6500</td>\n",
       "      <td>115.3333</td>\n",
       "      <td></td>\n",
       "    </tr>\n",
       "    <tr>\n",
       "      <th>40</th>\n",
       "      <td>Kavaratti</td>\n",
       "      <td>IN</td>\n",
       "      <td>81.37</td>\n",
       "      <td>10.5669</td>\n",
       "      <td>72.6420</td>\n",
       "      <td></td>\n",
       "    </tr>\n",
       "  </tbody>\n",
       "</table>\n",
       "</div>"
      ],
      "text/plain": [
       "         City Country  Max Temp      Lat       Lng Hotel Name\n",
       "0     Maumere      ID     82.98  -8.6199  122.2111           \n",
       "2      Atuona      PF     78.08  -9.8000 -139.0333           \n",
       "9   Boyolangu      ID     84.79  -8.1181  111.8935           \n",
       "13     Hobart      AU     83.01 -42.8794  147.3294           \n",
       "15  Carnarvon      AU     84.27 -24.8667  113.6333           \n",
       "18   Flinders      AU     84.20 -34.5833  150.8552           \n",
       "19    Jeremie      HT     75.69  18.6500  -74.1167           \n",
       "21    Atambua      ID     76.53  -9.1061  124.8925           \n",
       "24  Busselton      AU     83.05 -33.6500  115.3333           \n",
       "40  Kavaratti      IN     81.37  10.5669   72.6420           "
      ]
     },
     "execution_count": 19,
     "metadata": {},
     "output_type": "execute_result"
    }
   ],
   "source": [
    "# Create DataFrame called hotel_df to store hotel names along with city, country, max temp, and coordinates.\n",
    "hotel_df = preferred_cities_df[[\"City\", \"Country\", \"Max Temp\", \"Lat\", \"Lng\"]].copy()\n",
    "hotel_df[\"Hotel Name\"] = \"\"\n",
    "hotel_df.head(10)"
   ]
  },
  {
   "cell_type": "code",
   "execution_count": 20,
   "id": "a5ab6f46",
   "metadata": {},
   "outputs": [],
   "source": [
    "# Set parameters to search for a hotel.\n",
    "params = {\n",
    "    \"radius\": 5000,\n",
    "    \"type\": \"lodging\",\n",
    "    \"key\": g_key\n",
    "}"
   ]
  },
  {
   "cell_type": "code",
   "execution_count": 24,
   "id": "a9027eb4",
   "metadata": {},
   "outputs": [
    {
     "name": "stdout",
     "output_type": "stream",
     "text": [
      "Hotel not found...skipping\n",
      "Hotel not found...skipping\n",
      "Hotel not found...skipping\n",
      "Hotel not found...skipping\n"
     ]
    }
   ],
   "source": [
    "# Iterate through the DataFrame.\n",
    "for index, row in hotel_df.iterrows():\n",
    "    # Get the latitude and longitude.\n",
    "    lat = row[\"Lat\"]\n",
    "    lng = row[\"Lng\"]\n",
    "\n",
    "    # Add the latitude and longitude to location key for the params dictionary.\n",
    "    params[\"location\"] = f\"{lat},{lng}\"\n",
    "\n",
    "    # Use the search term: \"lodging\" and our latitude and longitude.\n",
    "    base_url = \"https://maps.googleapis.com/maps/api/place/nearbysearch/json\"\n",
    "    # Make request and get the JSON data from the search.\n",
    "    hotels = requests.get(base_url, params=params).json()\n",
    "    # Grab the first hotel from the results and store the name.\n",
    "    try:\n",
    "        hotel_df.loc[index, \"Hotel Name\"] = hotels[\"results\"][0][\"name\"]\n",
    "    except (IndexError):\n",
    "        print(\"Hotel not found...skipping\")\n",
    "    \n",
    "  "
   ]
  },
  {
   "cell_type": "code",
   "execution_count": 25,
   "id": "4f1d4426",
   "metadata": {},
   "outputs": [
    {
     "data": {
      "text/html": [
       "<div>\n",
       "<style scoped>\n",
       "    .dataframe tbody tr th:only-of-type {\n",
       "        vertical-align: middle;\n",
       "    }\n",
       "\n",
       "    .dataframe tbody tr th {\n",
       "        vertical-align: top;\n",
       "    }\n",
       "\n",
       "    .dataframe thead th {\n",
       "        text-align: right;\n",
       "    }\n",
       "</style>\n",
       "<table border=\"1\" class=\"dataframe\">\n",
       "  <thead>\n",
       "    <tr style=\"text-align: right;\">\n",
       "      <th></th>\n",
       "      <th>City</th>\n",
       "      <th>Country</th>\n",
       "      <th>Max Temp</th>\n",
       "      <th>Lat</th>\n",
       "      <th>Lng</th>\n",
       "      <th>Hotel Name</th>\n",
       "    </tr>\n",
       "  </thead>\n",
       "  <tbody>\n",
       "    <tr>\n",
       "      <th>0</th>\n",
       "      <td>Maumere</td>\n",
       "      <td>ID</td>\n",
       "      <td>82.98</td>\n",
       "      <td>-8.6199</td>\n",
       "      <td>122.2111</td>\n",
       "      <td>Sylvia Hotel</td>\n",
       "    </tr>\n",
       "    <tr>\n",
       "      <th>2</th>\n",
       "      <td>Atuona</td>\n",
       "      <td>PF</td>\n",
       "      <td>78.08</td>\n",
       "      <td>-9.8000</td>\n",
       "      <td>-139.0333</td>\n",
       "      <td>Villa Enata</td>\n",
       "    </tr>\n",
       "    <tr>\n",
       "      <th>9</th>\n",
       "      <td>Boyolangu</td>\n",
       "      <td>ID</td>\n",
       "      <td>84.79</td>\n",
       "      <td>-8.1181</td>\n",
       "      <td>111.8935</td>\n",
       "      <td>Yos ega cv</td>\n",
       "    </tr>\n",
       "    <tr>\n",
       "      <th>13</th>\n",
       "      <td>Hobart</td>\n",
       "      <td>AU</td>\n",
       "      <td>83.01</td>\n",
       "      <td>-42.8794</td>\n",
       "      <td>147.3294</td>\n",
       "      <td>Mantra on Collins Hobart</td>\n",
       "    </tr>\n",
       "    <tr>\n",
       "      <th>15</th>\n",
       "      <td>Carnarvon</td>\n",
       "      <td>AU</td>\n",
       "      <td>84.27</td>\n",
       "      <td>-24.8667</td>\n",
       "      <td>113.6333</td>\n",
       "      <td>Hospitality Carnarvon</td>\n",
       "    </tr>\n",
       "  </tbody>\n",
       "</table>\n",
       "</div>"
      ],
      "text/plain": [
       "         City Country  Max Temp      Lat       Lng                Hotel Name\n",
       "0     Maumere      ID     82.98  -8.6199  122.2111              Sylvia Hotel\n",
       "2      Atuona      PF     78.08  -9.8000 -139.0333               Villa Enata\n",
       "9   Boyolangu      ID     84.79  -8.1181  111.8935                Yos ega cv\n",
       "13     Hobart      AU     83.01 -42.8794  147.3294  Mantra on Collins Hobart\n",
       "15  Carnarvon      AU     84.27 -24.8667  113.6333     Hospitality Carnarvon"
      ]
     },
     "execution_count": 25,
     "metadata": {},
     "output_type": "execute_result"
    }
   ],
   "source": [
    "hotel_df.head()"
   ]
  },
  {
   "cell_type": "code",
   "execution_count": 28,
   "id": "41a4844e",
   "metadata": {},
   "outputs": [
    {
     "data": {
      "application/vnd.jupyter.widget-view+json": {
       "model_id": "800dbcd5f275459297521f9067621f9f",
       "version_major": 2,
       "version_minor": 0
      },
      "text/plain": [
       "Figure(layout=FigureLayout(height='420px'))"
      ]
     },
     "metadata": {},
     "output_type": "display_data"
    }
   ],
   "source": [
    "# Add a heatmap of temperature for the vacation spots and marker for each city.\n",
    "locations = hotel_df[[\"Lat\", \"Lng\"]]\n",
    "max_temp = hotel_df[\"Max Temp\"]\n",
    "fig = gmaps.figure(center=(30.0, 31.0), zoom_level=1.5)\n",
    "heat_layer = gmaps.heatmap_layer(locations, weights=max_temp, dissipating=False,\n",
    "             max_intensity=300, point_radius=4)\n",
    "marker_layer = gmaps.marker_layer(locations)\n",
    "fig.add_layer(heat_layer)\n",
    "fig.add_layer(marker_layer)\n",
    "# Call the figure to plot the data.\n",
    "fig"
   ]
  },
  {
   "cell_type": "code",
   "execution_count": 29,
   "id": "e2607950",
   "metadata": {},
   "outputs": [],
   "source": [
    "info_box_template = \"\"\"\n",
    "<dl>\n",
    "<dt>Hotel Name</dt><dd>{Hotel Name}</dd>\n",
    "<dt>City</dt><dd>{City}</dd>\n",
    "<dt>Country</dt><dd>{Country}</dd>\n",
    "<dt>Max Temp</dt><dd>{Max Temp} °F</dd>\n",
    "</dl>\n",
    "\"\"\""
   ]
  },
  {
   "cell_type": "code",
   "execution_count": 30,
   "id": "c02adb5e",
   "metadata": {},
   "outputs": [],
   "source": [
    "# Store the DataFrame Row.\n",
    "hotel_info = [info_box_template.format(**row) for index, row in hotel_df.iterrows()]"
   ]
  },
  {
   "cell_type": "code",
   "execution_count": 31,
   "id": "74e52dfe",
   "metadata": {},
   "outputs": [
    {
     "data": {
      "application/vnd.jupyter.widget-view+json": {
       "model_id": "4493e2182bd348819d94a7d045532178",
       "version_major": 2,
       "version_minor": 0
      },
      "text/plain": [
       "Figure(layout=FigureLayout(height='420px'))"
      ]
     },
     "metadata": {},
     "output_type": "display_data"
    }
   ],
   "source": [
    "# Add a heatmap of temperature for the vacation spots and a pop-up marker for each city.\n",
    "locations = hotel_df[[\"Lat\", \"Lng\"]]\n",
    "max_temp = hotel_df[\"Max Temp\"]\n",
    "fig = gmaps.figure(center=(30.0, 31.0), zoom_level=1.5)\n",
    "heat_layer = gmaps.heatmap_layer(locations, weights=max_temp,dissipating=False,\n",
    "             max_intensity=300, point_radius=4)\n",
    "marker_layer = gmaps.marker_layer(locations, info_box_content=hotel_info)\n",
    "fig.add_layer(heat_layer)\n",
    "fig.add_layer(marker_layer)\n",
    "\n",
    "# Call the figure to plot the data.\n",
    "fig"
   ]
  },
  {
   "cell_type": "code",
   "execution_count": null,
   "id": "793f71be",
   "metadata": {},
   "outputs": [],
   "source": []
  }
 ],
 "metadata": {
  "kernelspec": {
   "display_name": "Python 3 (ipykernel)",
   "language": "python",
   "name": "python3"
  },
  "language_info": {
   "codemirror_mode": {
    "name": "ipython",
    "version": 3
   },
   "file_extension": ".py",
   "mimetype": "text/x-python",
   "name": "python",
   "nbconvert_exporter": "python",
   "pygments_lexer": "ipython3",
   "version": "3.7.11"
  }
 },
 "nbformat": 4,
 "nbformat_minor": 5
}
